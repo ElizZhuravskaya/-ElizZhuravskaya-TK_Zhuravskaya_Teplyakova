{
  "nbformat": 4,
  "nbformat_minor": 0,
  "metadata": {
    "colab": {
      "provenance": []
    },
    "kernelspec": {
      "name": "python3",
      "display_name": "Python 3"
    },
    "language_info": {
      "name": "python"
    }
  },
  "cells": [
    {
      "cell_type": "markdown",
      "source": [
        "# Лабораторная работа №4 по предмету \"Теория кодирования\".\n",
        "Выполнили студенты:\n",
        "Журавская Елизавета группа 6404-010302D и Теплякова Юлия группа 6403-010302D.\n",
        "\n"
      ],
      "metadata": {
        "id": "NJpZhAnmYq2H"
      }
    },
    {
      "cell_type": "code",
      "execution_count": 24,
      "metadata": {
        "id": "Olb2ZeT1YMzo"
      },
      "outputs": [],
      "source": [
        "import numpy as np"
      ]
    },
    {
      "cell_type": "markdown",
      "source": [
        "# **Часть 1**"
      ],
      "metadata": {
        "id": "ee7Rpd385hHG"
      }
    },
    {
      "cell_type": "markdown",
      "source": [
        "# 4.1 Написать функцию формирования порождающей и проверочной матриц расширенного кода Голея (24,12,8)."
      ],
      "metadata": {
        "id": "JhGI-enUYy30"
      }
    },
    {
      "cell_type": "code",
      "source": [
        "B = [[1, 1, 0, 1, 1, 1, 0, 0, 0, 1, 0, 1],\n",
        "     [1, 0, 1, 1, 1, 0, 0, 0, 1, 0, 1, 1],\n",
        "     [0, 1, 1, 1, 0, 0, 0, 1, 0, 1, 1, 1],\n",
        "     [1, 1, 1, 0, 0, 0, 1, 0, 1, 1, 0, 1],\n",
        "     [1, 1, 0, 0, 0, 1, 0, 1, 1, 0, 1, 1],\n",
        "     [1, 0, 0, 0, 1, 0, 1, 1, 0, 1, 1, 1],\n",
        "     [0, 0, 0, 1, 0, 1, 1, 0, 1, 1, 1, 1],\n",
        "     [0, 0, 1, 0, 1, 1, 0, 1, 1, 1, 0, 1],\n",
        "     [0, 1, 0, 1, 1, 0, 1, 1, 1, 0, 0, 1],\n",
        "     [1, 0, 1, 1, 0, 1, 1, 1, 0, 0, 0, 1],\n",
        "     [0, 1, 1, 0, 1, 1, 1, 0, 0, 0, 1, 1],\n",
        "     [1, 1, 1, 1, 1, 1, 1, 1, 1, 1, 1, 0]]"
      ],
      "metadata": {
        "id": "Jgp78pUwYuPK"
      },
      "execution_count": null,
      "outputs": []
    },
    {
      "cell_type": "code",
      "source": [
        "# Порождающая матрица G для кода Голея (24, 12)\n",
        "def golay_code():\n",
        "    G = np.zeros((12, 24), dtype=int)\n",
        "    G[:, :12] = np.eye(12, dtype=int)\n",
        "\n",
        "    for i in range(12):\n",
        "        G[i][12:] = B[i]\n",
        "\n",
        "    return G.astype(int)"
      ],
      "metadata": {
        "id": "GUpYTnEm6sQg"
      },
      "execution_count": null,
      "outputs": []
    },
    {
      "cell_type": "code",
      "source": [
        "# Проверочная матрица H\n",
        "def H_matrix_goley(G):\n",
        "    n = len(G.T)\n",
        "    k = len(G)\n",
        "    n_k = n - k\n",
        "\n",
        "    # Инициализация H матрицы и единичной матрицы\n",
        "    H = np.zeros((n, n_k), dtype=int)\n",
        "    I_n_k = np.eye(n_k, dtype=int)\n",
        "\n",
        "    H[:k, :] = I_n_k\n",
        "    H[k:, :] = G[:, k:]\n",
        "\n",
        "    return H"
      ],
      "metadata": {
        "id": "hGyFdd0J6qhZ"
      },
      "execution_count": null,
      "outputs": []
    },
    {
      "cell_type": "code",
      "source": [
        "G_matrix = golay_code()\n",
        "print(\"Порождающая матрица G:\")\n",
        "print(G_matrix)\n",
        "H_matrix = H_matrix_goley(G_matrix)\n",
        "print(\"Проверочная матрица H:\")\n",
        "print(H_matrix)"
      ],
      "metadata": {
        "colab": {
          "base_uri": "https://localhost:8080/"
        },
        "id": "TMGv9V4sZ1k8",
        "outputId": "ab40cb07-58e1-43c5-d307-b2bb56bf430b"
      },
      "execution_count": null,
      "outputs": [
        {
          "output_type": "stream",
          "name": "stdout",
          "text": [
            "Порождающая матрица G:\n",
            "[[1 0 0 0 0 0 0 0 0 0 0 0 1 1 0 1 1 1 0 0 0 1 0 1]\n",
            " [0 1 0 0 0 0 0 0 0 0 0 0 1 0 1 1 1 0 0 0 1 0 1 1]\n",
            " [0 0 1 0 0 0 0 0 0 0 0 0 0 1 1 1 0 0 0 1 0 1 1 1]\n",
            " [0 0 0 1 0 0 0 0 0 0 0 0 1 1 1 0 0 0 1 0 1 1 0 1]\n",
            " [0 0 0 0 1 0 0 0 0 0 0 0 1 1 0 0 0 1 0 1 1 0 1 1]\n",
            " [0 0 0 0 0 1 0 0 0 0 0 0 1 0 0 0 1 0 1 1 0 1 1 1]\n",
            " [0 0 0 0 0 0 1 0 0 0 0 0 0 0 0 1 0 1 1 0 1 1 1 1]\n",
            " [0 0 0 0 0 0 0 1 0 0 0 0 0 0 1 0 1 1 0 1 1 1 0 1]\n",
            " [0 0 0 0 0 0 0 0 1 0 0 0 0 1 0 1 1 0 1 1 1 0 0 1]\n",
            " [0 0 0 0 0 0 0 0 0 1 0 0 1 0 1 1 0 1 1 1 0 0 0 1]\n",
            " [0 0 0 0 0 0 0 0 0 0 1 0 0 1 1 0 1 1 1 0 0 0 1 1]\n",
            " [0 0 0 0 0 0 0 0 0 0 0 1 1 1 1 1 1 1 1 1 1 1 1 0]]\n",
            "Проверочная матрица H:\n",
            "[[1 0 0 0 0 0 0 0 0 0 0 0]\n",
            " [0 1 0 0 0 0 0 0 0 0 0 0]\n",
            " [0 0 1 0 0 0 0 0 0 0 0 0]\n",
            " [0 0 0 1 0 0 0 0 0 0 0 0]\n",
            " [0 0 0 0 1 0 0 0 0 0 0 0]\n",
            " [0 0 0 0 0 1 0 0 0 0 0 0]\n",
            " [0 0 0 0 0 0 1 0 0 0 0 0]\n",
            " [0 0 0 0 0 0 0 1 0 0 0 0]\n",
            " [0 0 0 0 0 0 0 0 1 0 0 0]\n",
            " [0 0 0 0 0 0 0 0 0 1 0 0]\n",
            " [0 0 0 0 0 0 0 0 0 0 1 0]\n",
            " [0 0 0 0 0 0 0 0 0 0 0 1]\n",
            " [1 1 0 1 1 1 0 0 0 1 0 1]\n",
            " [1 0 1 1 1 0 0 0 1 0 1 1]\n",
            " [0 1 1 1 0 0 0 1 0 1 1 1]\n",
            " [1 1 1 0 0 0 1 0 1 1 0 1]\n",
            " [1 1 0 0 0 1 0 1 1 0 1 1]\n",
            " [1 0 0 0 1 0 1 1 0 1 1 1]\n",
            " [0 0 0 1 0 1 1 0 1 1 1 1]\n",
            " [0 0 1 0 1 1 0 1 1 1 0 1]\n",
            " [0 1 0 1 1 0 1 1 1 0 0 1]\n",
            " [1 0 1 1 0 1 1 1 0 0 0 1]\n",
            " [0 1 1 0 1 1 1 0 0 0 1 1]\n",
            " [1 1 1 1 1 1 1 1 1 1 1 0]]\n"
          ]
        }
      ]
    },
    {
      "cell_type": "markdown",
      "source": [
        "# 4.2. Провести исследование расширенного кода Голея для одно-, двух-, трёх- и четырёхкратных ошибок."
      ],
      "metadata": {
        "id": "JmIvsVmtYzwL"
      }
    },
    {
      "cell_type": "code",
      "source": [
        "# Получение синдрома ошибки\n",
        "def get_syndromes(G, H):\n",
        "    return G.dot(H) % 2"
      ],
      "metadata": {
        "id": "4tQX7MBP7PDF"
      },
      "execution_count": null,
      "outputs": []
    },
    {
      "cell_type": "code",
      "source": [
        "# Генерация слова с указанным количеством ошибок\n",
        "def generate_word_with_n_mistakes(G, error_count):\n",
        "    u = np.array([1, 1, 0, 0, 0, 0, 0, 0, 1, 0, 1, 1])\n",
        "    print(\"Исходное сообщение: \", u)\n",
        "\n",
        "    # Выбор уникальных позиций для ошибок и внесение ошибок в выбранные позиции\n",
        "    u = u.dot(G) % 2\n",
        "    mistake_pos = np.random.choice(len(u), size=error_count, replace=False)\n",
        "    u[mistake_pos] = (u[mistake_pos] + 1) % 2\n",
        "\n",
        "    return u"
      ],
      "metadata": {
        "id": "-WxGJf3a7Y50"
      },
      "execution_count": null,
      "outputs": []
    },
    {
      "cell_type": "code",
      "source": [
        "G = golay_code()\n",
        "H = H_matrix_goley(G_matrix)"
      ],
      "metadata": {
        "id": "qBLzIl-IspC2"
      },
      "execution_count": null,
      "outputs": []
    },
    {
      "cell_type": "code",
      "source": [
        "def output_results(word_with_mistake, Syndrome, correct_word_with_mistake, test):\n",
        "  print(\"В ходе передачи возникла ошибка\\n\\nПринято: \", word_with_mistake)\n",
        "  print(\"Синдром: \", Syndrome, '\\n')\n",
        "  print(\"Исправленное кодовое слово: \", correct_word_with_mistake)\n",
        "  if not np.all(test == 0):\n",
        "    print(\"Исправленное слово отличается от отправленного.\")\n",
        "  else:\n",
        "    print(\"Исправленное слово совпадает с отправленным.\")"
      ],
      "metadata": {
        "id": "UgUsronOsPS3"
      },
      "execution_count": null,
      "outputs": []
    },
    {
      "cell_type": "markdown",
      "source": [
        "1. Однократная ошибка"
      ],
      "metadata": {
        "id": "m6wyFIVm8HG-"
      }
    },
    {
      "cell_type": "code",
      "source": [
        "# Исправление однократной ошибки\n",
        "def get_correct_one_mistake(H, syndrome, word):\n",
        "    # Нахождение индекса строки в H, которая равна синдрому\n",
        "    indices = np.where(np.all(H == syndrome, axis=1))[0]\n",
        "\n",
        "    # Исправление ошибки в найденной позиции\n",
        "    if len(indices) == 0:\n",
        "        print(\"Такого синдрома нет в матрице H\")\n",
        "    else:\n",
        "        index = indices[0]\n",
        "        word[index] ^= 1\n",
        "\n",
        "    return word"
      ],
      "metadata": {
        "id": "mE_fwRvjcjCF"
      },
      "execution_count": null,
      "outputs": []
    },
    {
      "cell_type": "code",
      "source": [
        "print('..::Однократная ошибка::..\\n')\n",
        "\n",
        "# Генерация однократной ошибки, Синдрома и исправление ошибки\n",
        "word_with_one_mistake = generate_word_with_n_mistakes(G, 1)\n",
        "Syndrome = get_syndromes(word_with_one_mistake, H)\n",
        "correct_word_with_one_mistake = get_correct_one_mistake(H, Syndrome, word_with_one_mistake)\n",
        "test = np.dot(correct_word_with_one_mistake, H) % 2\n",
        "\n",
        "output_results(word_with_one_mistake, Syndrome, correct_word_with_one_mistake, test)"
      ],
      "metadata": {
        "id": "7fh-Vc01Y2bK",
        "colab": {
          "base_uri": "https://localhost:8080/"
        },
        "outputId": "45f65ab6-dc2c-47c2-9459-ae8e0d89345d"
      },
      "execution_count": null,
      "outputs": [
        {
          "output_type": "stream",
          "name": "stdout",
          "text": [
            "..::Однократная ошибка::..\n",
            "\n",
            "Исходное сообщение:  [1 1 0 0 0 0 0 0 1 0 1 1]\n",
            "В ходе передачи возникла ошибка\n",
            "\n",
            "Принято:  [1 1 0 0 0 0 0 0 1 0 1 1 1 0 1 0 1 1 1 0 1 0 1 0]\n",
            "Синдром:  [1 1 1 0 0 0 1 0 1 1 0 1] \n",
            "\n",
            "Исправленное кодовое слово:  [1 1 0 0 0 0 0 0 1 0 1 1 1 0 1 0 1 1 1 0 1 0 1 0]\n",
            "Исправленное слово совпадает с отправленным.\n"
          ]
        }
      ]
    },
    {
      "cell_type": "markdown",
      "source": [
        "2. Двухкратная ошибка"
      ],
      "metadata": {
        "id": "yjSCOP8EtcbZ"
      }
    },
    {
      "cell_type": "code",
      "source": [
        "# Исправление двухкратной ошибки\n",
        "def get_correct_word_two_mistakes(H, syndrome, word):\n",
        "    indices = []\n",
        "\n",
        "    # Поиск индексов, соответствующих синдрому\n",
        "    for i in range(len(H)):\n",
        "        # Сравнение с синдромом одной ошибки\n",
        "        if np.array_equal(syndrome, H[i]):\n",
        "            indices.append(i)\n",
        "            break\n",
        "\n",
        "        # Сравнение с синдромом двух ошибок\n",
        "        for j in range(i + 1, len(H)):\n",
        "            if np.array_equal(syndrome, H[i] + H[j]):\n",
        "                indices.extend([i, j])\n",
        "                break\n",
        "\n",
        "        # Если найдены индексы, выход из цикла\n",
        "        if indices:\n",
        "            break\n",
        "\n",
        "    # Исправление ошибок в слове\n",
        "    if not indices:\n",
        "        print(\"Синдром не соответствует ни одной ошибке.\")\n",
        "    else:\n",
        "        for idx in indices:\n",
        "            word[idx] ^= 1\n",
        "\n",
        "    return word"
      ],
      "metadata": {
        "id": "pLLWKz32tcRp"
      },
      "execution_count": null,
      "outputs": []
    },
    {
      "cell_type": "code",
      "source": [
        "print('..::Двухкратная ошибка::..\\n')\n",
        "\n",
        "# Генерация двухкратной ошибки, Синдромов и исправление ошибки\n",
        "word_with_two_mistakes = generate_word_with_n_mistakes(G, 2)\n",
        "Syndromes = get_syndromes(word_with_two_mistakes, H)\n",
        "correct_word_with_two_mistakes = get_correct_word_two_mistakes(H, Syndromes, word_with_two_mistakes)\n",
        "test = np.dot(correct_word_with_two_mistakes, H) % 2\n",
        "\n",
        "output_results(word_with_two_mistakes, Syndromes, correct_word_with_two_mistakes, test)"
      ],
      "metadata": {
        "colab": {
          "base_uri": "https://localhost:8080/"
        },
        "id": "A1Q4r_lKbRUA",
        "outputId": "b0d571b7-1eae-46ed-9478-01e55cf94da5"
      },
      "execution_count": null,
      "outputs": [
        {
          "output_type": "stream",
          "name": "stdout",
          "text": [
            "..::Двухкратная ошибка::..\n",
            "\n",
            "Исходное сообщение:  [1 1 0 0 0 0 0 0 1 0 1 1]\n",
            "В ходе передачи возникла ошибка\n",
            "\n",
            "Принято:  [1 1 0 0 0 0 0 0 1 0 1 1 1 0 1 0 1 1 1 0 1 0 1 0]\n",
            "Синдром:  [0 1 1 0 1 1 0 1 1 1 0 1] \n",
            "\n",
            "Исправленное кодовое слово:  [1 1 0 0 0 0 0 0 1 0 1 1 1 0 1 0 1 1 1 0 1 0 1 0]\n",
            "Исправленное слово совпадает с отправленным.\n"
          ]
        }
      ]
    },
    {
      "cell_type": "markdown",
      "source": [
        "3. Трехкратная ошибка"
      ],
      "metadata": {
        "id": "sDJMXfCEuvmr"
      }
    },
    {
      "cell_type": "code",
      "source": [
        "# Исправление трехкратной ошибки\n",
        "def get_correct_word_three_mistakes(H, syndrome, word):\n",
        "    indices = []\n",
        "\n",
        "    # Поиск индексов, соответствующих синдрому\n",
        "    for i in range(len(H)):\n",
        "        if np.array_equal(syndrome, H[i]):\n",
        "            indices.append(i)\n",
        "            break\n",
        "\n",
        "        for j in range(i + 1, len(H)):\n",
        "            if np.array_equal(syndrome, np.bitwise_xor(H[i], H[j])):\n",
        "                indices.extend([i, j])\n",
        "                break\n",
        "            for e in range(j + 1, len(H)):\n",
        "                if np.array_equal(syndrome, np.bitwise_xor(np.bitwise_xor(H[i], H[j]), H[e])):\n",
        "                    indices.extend([i, j, e])\n",
        "                    break\n",
        "            if indices:\n",
        "                break\n",
        "\n",
        "        if indices:\n",
        "            break\n",
        "\n",
        "    # Исправление ошибок в слове\n",
        "    if not indices:\n",
        "        print(\"Синдром не найден в матрице синдромов.\")\n",
        "    else:\n",
        "        for idx in indices:\n",
        "            word[idx] ^= 1\n",
        "\n",
        "    return word"
      ],
      "metadata": {
        "id": "YsC3NFzju6BL"
      },
      "execution_count": null,
      "outputs": []
    },
    {
      "cell_type": "code",
      "source": [
        "print('..::Трехкратная ошибка::..\\n')\n",
        "\n",
        "# Генерация трехкратной ошибки, Синдромов и исправление ошибки\n",
        "word_with_three_mistakes = generate_word_with_n_mistakes(G, 3)\n",
        "Syndromes = get_syndromes(word_with_three_mistakes, H)\n",
        "correct_word_with_three_mistakes = get_correct_word_three_mistakes(H, Syndromes, word_with_three_mistakes)\n",
        "test = np.dot(correct_word_with_three_mistakes, H) % 2\n",
        "\n",
        "output_results(word_with_three_mistakes, Syndromes, correct_word_with_three_mistakes, test)"
      ],
      "metadata": {
        "colab": {
          "base_uri": "https://localhost:8080/"
        },
        "id": "MiCBQvlRbTcA",
        "outputId": "7fd43441-5a4d-417c-f61a-ba522eda8cb7"
      },
      "execution_count": null,
      "outputs": [
        {
          "output_type": "stream",
          "name": "stdout",
          "text": [
            "..::Трехкратная ошибка::..\n",
            "\n",
            "Исходное сообщение:  [1 1 0 0 0 0 0 0 1 0 1 1]\n",
            "В ходе передачи возникла ошибка\n",
            "\n",
            "Принято:  [1 1 0 0 0 0 0 0 1 0 1 1 1 0 1 0 1 1 1 0 1 0 1 0]\n",
            "Синдром:  [0 0 1 1 1 1 0 1 1 1 0 0] \n",
            "\n",
            "Исправленное кодовое слово:  [1 1 0 0 0 0 0 0 1 0 1 1 1 0 1 0 1 1 1 0 1 0 1 0]\n",
            "Исправленное слово совпадает с отправленным.\n"
          ]
        }
      ]
    },
    {
      "cell_type": "markdown",
      "source": [
        "4. Четырехкратная ошибка"
      ],
      "metadata": {
        "id": "gM97wcRizPdI"
      }
    },
    {
      "cell_type": "code",
      "source": [
        "# Исправление четырехкратной ошибки\n",
        "def get_correct_word_four_mistakes(H, syndrome, word):\n",
        "    indices = []\n",
        "\n",
        "    # Поиск индексов, соответствующих синдрому\n",
        "    for i in range(len(H)):\n",
        "        if np.array_equal(syndrome, H[i]):\n",
        "            indices.append(i)\n",
        "            break\n",
        "\n",
        "        for j in range(i + 1, len(H)):\n",
        "            if np.array_equal(syndrome, H[i] + H[j]):\n",
        "                indices.extend([i, j])\n",
        "                break\n",
        "            for e in range(j + 1, len(H)):\n",
        "                if np.array_equal(syndrome, H[i] + H[j] + H[e]):\n",
        "                    indices.extend([i, j, e])\n",
        "                    break\n",
        "                for y in range(e + 1, len(H)):\n",
        "                    if np.array_equal(syndrome, H[i] + H[j] + H[e] + H[y]):\n",
        "                        indices.extend([i, j, e, y])\n",
        "                        break\n",
        "                if indices:\n",
        "                    break\n",
        "            if indices:\n",
        "                break\n",
        "        if indices:\n",
        "            break\n",
        "\n",
        "    # Исправление ошибок в слове\n",
        "    if not indices:\n",
        "        print(\"Синдром не найден в матрице синдромов.\")\n",
        "    else:\n",
        "        for idx in indices:\n",
        "            word[idx] ^= 1\n",
        "\n",
        "    return word"
      ],
      "metadata": {
        "id": "I_FndMNzzS-j"
      },
      "execution_count": null,
      "outputs": []
    },
    {
      "cell_type": "code",
      "source": [
        "print('..::Четырехратная ошибка::..\\n')\n",
        "\n",
        "# Генерация четырехкратной ошибки, Синдромов и исправление ошибки\n",
        "word_with_four_mistakes = generate_word_with_n_mistakes(G, 4)\n",
        "Syndromes = get_syndromes(word_with_four_mistakes, H)\n",
        "correct_word_with_four_mistakes = get_correct_word_four_mistakes(H, Syndromes, word_with_four_mistakes)\n",
        "test = np.dot(correct_word_with_four_mistakes, H) % 2\n",
        "\n",
        "output_results(word_with_four_mistakes, Syndromes, correct_word_with_four_mistakes, test)"
      ],
      "metadata": {
        "colab": {
          "base_uri": "https://localhost:8080/"
        },
        "id": "d8meHI28bUZ_",
        "outputId": "0c974760-4698-4a0b-fee0-258bef8fa283"
      },
      "execution_count": null,
      "outputs": [
        {
          "output_type": "stream",
          "name": "stdout",
          "text": [
            "..::Четырехратная ошибка::..\n",
            "\n",
            "Исходное сообщение:  [1 1 0 0 0 0 0 0 1 0 1 1]\n",
            "Синдром не найден в матрице синдромов.\n",
            "В ходе передачи возникла ошибка\n",
            "\n",
            "Принято:  [1 1 0 0 0 0 0 0 0 1 1 1 1 1 1 1 1 1 1 0 1 0 1 0]\n",
            "Синдром:  [0 1 0 1 1 0 1 0 1 0 1 0] \n",
            "\n",
            "Исправленное кодовое слово:  [1 1 0 0 0 0 0 0 0 1 1 1 1 1 1 1 1 1 1 0 1 0 1 0]\n",
            "Исправленное слово отличается от отправленного.\n"
          ]
        }
      ]
    },
    {
      "cell_type": "markdown",
      "source": [
        "# **Часть 2**"
      ],
      "metadata": {
        "id": "17g6sqnY15go"
      }
    },
    {
      "cell_type": "markdown",
      "source": [
        "# 4.3 Написать функцию формирования порождающей и проверочных матриц кода Рида-Маллера 𝑅𝑀(𝑟,𝑚) на основе параметров 𝑟 и 𝑚."
      ],
      "metadata": {
        "id": "Q_f2bacAY12M"
      }
    },
    {
      "cell_type": "code",
      "source": [
        "# Порождающая матрица кода Рида-Маллера\n",
        "def G_Rid_Maller(r, m):\n",
        "    if 0 < r < m:\n",
        "        # Рекурсивные вызовы\n",
        "        G11_2 = G_Rid_Maller(r, m - 1)\n",
        "        G22 = G_Rid_Maller(r - 1, m - 1)\n",
        "\n",
        "        G_left = np.concatenate([G11_2, np.zeros((len(G22), G11_2.shape[1]), dtype=int)])\n",
        "        G_right = np.concatenate([G11_2, G22])\n",
        "\n",
        "        return np.concatenate([G_left, G_right], axis=1)\n",
        "\n",
        "    # Нулевая матрица с единицами\n",
        "    elif r == 0:\n",
        "        return np.ones((1, 2 ** m), dtype=int)\n",
        "\n",
        "    # Верхняя матрица + строка с последней единицей\n",
        "    elif r == m:\n",
        "        G_top = G_Rid_Maller(r - 1, m)\n",
        "        bottom_matrix = np.zeros((1, 2 ** m), dtype=int)\n",
        "        bottom_matrix[0][-1] = 1\n",
        "        return np.concatenate([G_top, bottom_matrix])\n",
        "    else:\n",
        "        return np.array([])"
      ],
      "metadata": {
        "id": "cyp8iTbvY5vU"
      },
      "execution_count": 25,
      "outputs": []
    },
    {
      "cell_type": "code",
      "source": [
        "# Проверочная матрица кода Рида-Маллера\n",
        "def H_Rid_Maller_i(H, i, m):\n",
        "    kron_left = np.kron(np.eye(2 ** (m - i), dtype=int), H)\n",
        "    kron_right = np.kron(kron_left, np.eye(2 ** (i - 1), dtype=int))\n",
        "    return kron_right"
      ],
      "metadata": {
        "id": "VcfaK7u604GN"
      },
      "execution_count": 26,
      "outputs": []
    },
    {
      "cell_type": "code",
      "source": [
        "def change_zeros(word):\n",
        "    for i in range(len(word)):\n",
        "        if word[i] == 0:\n",
        "            word[i] = -1\n",
        "    return word"
      ],
      "metadata": {
        "id": "TJYfHC-2jVvG"
      },
      "execution_count": 27,
      "outputs": []
    },
    {
      "cell_type": "markdown",
      "source": [
        "# 4.4. Провести исследование кода Рида-Маллера 𝑅𝑀(1,3) для одно- и двукратных ошибок."
      ],
      "metadata": {
        "id": "tOeTfalZY6Dd"
      }
    },
    {
      "cell_type": "code",
      "source": [
        "def generate_word_with_n_mistakes(u, G, error_count):\n",
        "    print(\"Исходное сообщение: \", u)\n",
        "\n",
        "    # Выбор уникальных позиций для ошибок и внесение ошибок в выбранные позиции\n",
        "    u = u.dot(G) % 2\n",
        "    mistake_pos = np.random.choice(len(u), size=error_count, replace=False)\n",
        "    u[mistake_pos] = (u[mistake_pos] + 1) % 2\n",
        "\n",
        "    return u"
      ],
      "metadata": {
        "id": "X7kgSBLB-mam"
      },
      "execution_count": 87,
      "outputs": []
    },
    {
      "cell_type": "code",
      "source": [
        "def Rid_Maller_3(n, R_M, H_kron):\n",
        "    u = np.array([1, 1, 0, 0])\n",
        "    # Генерация слова с ошибками\n",
        "    w = generate_word_with_n_mistakes(u, R_M, n)\n",
        "    print(\"В ходе передачи возникла ошибка\\n\\nПринято: \", w)\n",
        "    w_zeros = change_zeros(w)\n",
        "\n",
        "    # Вычисление произведений с проверочной матрицей\n",
        "    Hi_1_3 = H_Rid_Maller_i(H_kron, 1, 3)\n",
        "    Hi_2_3 = H_Rid_Maller_i(H_kron, 2, 3)\n",
        "    Hi_3_3 = H_Rid_Maller_i(H_kron, 3, 3)\n",
        "\n",
        "    # Поэтапное вычисление продукта\n",
        "    w_1 = w_zeros.dot(Hi_1_3)\n",
        "    w_2 = w_1.dot(Hi_2_3)\n",
        "    w_3 = w_2.dot(Hi_3_3)\n",
        "\n",
        "    # Нахождение максимального значения\n",
        "    max_val_pos = np.argmax(w_3)\n",
        "    max_val = w_3[max_val_pos]\n",
        "\n",
        "    # Преобразование позиции максимального значения в двоичный код\n",
        "    binary = np.binary_repr(max_val_pos, 3)[::-1]\n",
        "\n",
        "    # Добавление старшего бита в зависимости от значения max_val\n",
        "    binary = (\"1\" if max_val > 0 else \"0\") + binary\n",
        "\n",
        "    corrected_word = np.array(list(map(int, binary)))\n",
        "    print(\"\\nИсправленное кодовое слово:\", corrected_word)\n",
        "\n",
        "    # Проверка совпадения отправленного и исправленного слова\n",
        "    if np.array_equal(corrected_word, u):\n",
        "        print(\"Исправленное слово совпадает с отправленным.\")\n",
        "    else:\n",
        "        print(\"Исправленное слово не совпадает с отправленным.\")"
      ],
      "metadata": {
        "id": "Ku2mAAce5kAU"
      },
      "execution_count": 88,
      "outputs": []
    },
    {
      "cell_type": "code",
      "source": [
        "R_M = G_Rid_Maller(1, 3)\n",
        "print(R_M)\n",
        "\n",
        "H_kron = np.array([[1, 1],\n",
        "                   [1, -1]])"
      ],
      "metadata": {
        "colab": {
          "base_uri": "https://localhost:8080/"
        },
        "id": "VOxDFfmp2oH9",
        "outputId": "61267ea6-915b-4453-a5ce-5719f9919a65"
      },
      "execution_count": 89,
      "outputs": [
        {
          "output_type": "stream",
          "name": "stdout",
          "text": [
            "[[1 1 1 1 1 1 1 1]\n",
            " [0 1 0 1 0 1 0 1]\n",
            " [0 0 1 1 0 0 1 1]\n",
            " [0 0 0 0 1 1 1 1]]\n"
          ]
        }
      ]
    },
    {
      "cell_type": "markdown",
      "source": [
        "1. Однократная ошибка"
      ],
      "metadata": {
        "id": "_v7YUQsC2Brc"
      }
    },
    {
      "cell_type": "code",
      "source": [
        "print('..::Однократная ошибка::..\\n')\n",
        "Rid_Maller_3(1, R_M, H_kron)"
      ],
      "metadata": {
        "id": "5P3WYI1iY8TO",
        "colab": {
          "base_uri": "https://localhost:8080/"
        },
        "outputId": "8d734666-d98d-4f0b-fce7-d5ae38293bad"
      },
      "execution_count": 90,
      "outputs": [
        {
          "output_type": "stream",
          "name": "stdout",
          "text": [
            "..::Однократная ошибка::..\n",
            "\n",
            "Исходное сообщение:  [1 1 0 0]\n",
            "В ходе передачи возникла ошибка\n",
            "\n",
            "Принято:  [1 0 1 1 1 0 1 0]\n",
            "\n",
            "Исправленное кодовое слово: [1 1 0 0]\n",
            "Исправленное слово совпадает с отправленным.\n"
          ]
        }
      ]
    },
    {
      "cell_type": "markdown",
      "source": [
        "2. Двухкратная ошибка"
      ],
      "metadata": {
        "id": "KdOrqOBv3mnG"
      }
    },
    {
      "cell_type": "code",
      "source": [
        "print('..::Двухкратная ошибка::..\\n')\n",
        "Rid_Maller_3(2, R_M, H_kron)"
      ],
      "metadata": {
        "id": "jGA6dzqZ3m5_",
        "colab": {
          "base_uri": "https://localhost:8080/"
        },
        "outputId": "b321cfa8-db2b-4154-b6fa-1efc579ca8d3"
      },
      "execution_count": 91,
      "outputs": [
        {
          "output_type": "stream",
          "name": "stdout",
          "text": [
            "..::Двухкратная ошибка::..\n",
            "\n",
            "Исходное сообщение:  [1 1 0 0]\n",
            "В ходе передачи возникла ошибка\n",
            "\n",
            "Принято:  [1 0 0 0 1 0 0 0]\n",
            "\n",
            "Исправленное кодовое слово: [1 1 0 0]\n",
            "Исправленное слово совпадает с отправленным.\n"
          ]
        }
      ]
    },
    {
      "cell_type": "markdown",
      "source": [
        "# 4.5. Провести исследование кода Рида-Маллера 𝑅𝑀(1,4) для одно-, двух-, трёх- и четырёхкратных ошибок."
      ],
      "metadata": {
        "id": "uVRA0XqHY8hf"
      }
    },
    {
      "cell_type": "code",
      "source": [
        "# Генерация слова с указанным количеством ошибок\n",
        "def generate_word_with_n_mistakes_RM(u, G, error_count):\n",
        "    print(\"Исходное сообщение: \", u)\n",
        "\n",
        "    # Выбор уникальных позиций для ошибок и внесение ошибок в выбранные позиции\n",
        "    u = u.dot(G) % 2\n",
        "    mistake_pos = np.random.choice(len(u), size=error_count, replace=False)\n",
        "    u[mistake_pos] = (u[mistake_pos] + 1) % 2\n",
        "\n",
        "    return u"
      ],
      "metadata": {
        "id": "Umw2DEkWj43T"
      },
      "execution_count": 92,
      "outputs": []
    },
    {
      "cell_type": "code",
      "source": [
        "def Rid_Maller_4(n, R_M, H_kron):\n",
        "    u = np.array([1, 1, 1, 0, 1])\n",
        "    # Генерация слова с ошибками\n",
        "    w = generate_word_with_n_mistakes_RM(u, R_M, n)\n",
        "    print(\"В ходе передачи возникла ошибка\\n\\nПринято: \", w)\n",
        "    w = change_zeros(w)\n",
        "\n",
        "    # Вычисление произведений с проверочной матрицей\n",
        "    Hi_1_3 = H_Rid_Maller_i(H_kron, 1, 4)\n",
        "    Hi_2_3 = H_Rid_Maller_i(H_kron, 2, 4)\n",
        "    Hi_3_3 = H_Rid_Maller_i(H_kron, 3, 4)\n",
        "    Hi_4_4 = H_Rid_Maller_i(H_kron, 4, 4)\n",
        "\n",
        "    # Поэтапное вычисление продукта\n",
        "    w_1 = w.dot(Hi_1_3)\n",
        "    w_2 = w_1.dot(Hi_2_3)\n",
        "    w_3 = w_2.dot(Hi_3_3)\n",
        "    w_4 = w_3.dot(Hi_4_4)\n",
        "\n",
        "    # Нахождение максимального значения\n",
        "    max_val_pos = np.argmax(w_4)\n",
        "    max_val = w_4[max_val_pos]\n",
        "\n",
        "    # Преобразование позиции максимального значения в двоичный код\n",
        "    binary = np.binary_repr(max_val_pos, 4)[::-1]\n",
        "\n",
        "    # Добавление старшего бита в зависимости от значения max_val\n",
        "    binary = (\"1\" if max_val > 0 else \"0\") + binary\n",
        "\n",
        "    corrected_word = np.array(list(map(int, binary)))\n",
        "    print(\"\\nИсправленное кодовое слово:\", corrected_word)\n",
        "\n",
        "    # Проверка совпадения отправленного и исправленного слова\n",
        "    if np.array_equal(corrected_word, u):\n",
        "        print(\"Исправленное слово совпадает с отправленным.\")\n",
        "    else:\n",
        "        print(\"Исправленное слово не совпадает с отправленным.\")"
      ],
      "metadata": {
        "id": "wGxlXngM6TuA"
      },
      "execution_count": 93,
      "outputs": []
    },
    {
      "cell_type": "code",
      "source": [
        "R_M = G_Rid_Maller(1, 4)\n",
        "print(R_M)\n",
        "\n",
        "H_kron = np.array([[1, 1],\n",
        "                   [1, -1]])"
      ],
      "metadata": {
        "id": "0CeoXwj4i1KC",
        "colab": {
          "base_uri": "https://localhost:8080/"
        },
        "outputId": "625e000a-47c8-449a-9232-80e42aa16581"
      },
      "execution_count": 94,
      "outputs": [
        {
          "output_type": "stream",
          "name": "stdout",
          "text": [
            "[[1 1 1 1 1 1 1 1 1 1 1 1 1 1 1 1]\n",
            " [0 1 0 1 0 1 0 1 0 1 0 1 0 1 0 1]\n",
            " [0 0 1 1 0 0 1 1 0 0 1 1 0 0 1 1]\n",
            " [0 0 0 0 1 1 1 1 0 0 0 0 1 1 1 1]\n",
            " [0 0 0 0 0 0 0 0 1 1 1 1 1 1 1 1]]\n"
          ]
        }
      ]
    },
    {
      "cell_type": "markdown",
      "source": [
        "1. Однократная ошибка"
      ],
      "metadata": {
        "id": "X9HbqbN26rXN"
      }
    },
    {
      "cell_type": "code",
      "source": [
        "print('..::Однократная ошибка::..\\n')\n",
        "Rid_Maller_4(1, R_M, H_kron)"
      ],
      "metadata": {
        "id": "qZBrafFv6xWW",
        "colab": {
          "base_uri": "https://localhost:8080/"
        },
        "outputId": "9cd77084-a255-4dd5-a10d-23d054aba65c"
      },
      "execution_count": 95,
      "outputs": [
        {
          "output_type": "stream",
          "name": "stdout",
          "text": [
            "..::Однократная ошибка::..\n",
            "\n",
            "Исходное сообщение:  [1 1 1 0 1]\n",
            "В ходе передачи возникла ошибка\n",
            "\n",
            "Принято:  [1 0 0 0 1 0 0 1 0 1 1 0 0 1 1 0]\n",
            "\n",
            "Исправленное кодовое слово: [1 1 1 0 1]\n",
            "Исправленное слово совпадает с отправленным.\n"
          ]
        }
      ]
    },
    {
      "cell_type": "markdown",
      "source": [
        "2. Двухкратная ошибка"
      ],
      "metadata": {
        "id": "G5RPaTJf6_qS"
      }
    },
    {
      "cell_type": "code",
      "source": [
        "print('..::Двухкратная ошибка::..\\n')\n",
        "Rid_Maller_4(2, R_M, H_kron)"
      ],
      "metadata": {
        "id": "jX2etcGA6_-Z",
        "colab": {
          "base_uri": "https://localhost:8080/"
        },
        "outputId": "74608f40-ae16-4f35-c5c6-eee3a3f799c9"
      },
      "execution_count": 96,
      "outputs": [
        {
          "output_type": "stream",
          "name": "stdout",
          "text": [
            "..::Двухкратная ошибка::..\n",
            "\n",
            "Исходное сообщение:  [1 1 1 0 1]\n",
            "В ходе передачи возникла ошибка\n",
            "\n",
            "Принято:  [1 0 0 1 1 0 0 1 0 1 1 0 1 1 0 0]\n",
            "\n",
            "Исправленное кодовое слово: [1 1 1 0 1]\n",
            "Исправленное слово совпадает с отправленным.\n"
          ]
        }
      ]
    },
    {
      "cell_type": "markdown",
      "source": [
        "3. Трехкратная ошибка"
      ],
      "metadata": {
        "id": "DPr3dl-c7ARq"
      }
    },
    {
      "cell_type": "code",
      "source": [
        "print('..::Трехкратная ошибка::..\\n')\n",
        "Rid_Maller_4(3, R_M, H_kron)"
      ],
      "metadata": {
        "id": "1w930bKd7Al2",
        "colab": {
          "base_uri": "https://localhost:8080/"
        },
        "outputId": "0a1d8776-2da0-4a5e-944c-7f23d768722a"
      },
      "execution_count": 97,
      "outputs": [
        {
          "output_type": "stream",
          "name": "stdout",
          "text": [
            "..::Трехкратная ошибка::..\n",
            "\n",
            "Исходное сообщение:  [1 1 1 0 1]\n",
            "В ходе передачи возникла ошибка\n",
            "\n",
            "Принято:  [1 1 0 1 1 0 1 1 0 0 1 0 0 1 1 0]\n",
            "\n",
            "Исправленное кодовое слово: [1 1 1 0 1]\n",
            "Исправленное слово совпадает с отправленным.\n"
          ]
        }
      ]
    },
    {
      "cell_type": "markdown",
      "source": [
        "4. Четырехкратная ошибка"
      ],
      "metadata": {
        "id": "GAXMrCly7GE0"
      }
    },
    {
      "cell_type": "code",
      "source": [
        "print('..::Четырехкратная ошибка::..\\n')\n",
        "Rid_Maller_4(4, R_M, H_kron)"
      ],
      "metadata": {
        "id": "Wn8VQFbQ7I6S",
        "colab": {
          "base_uri": "https://localhost:8080/"
        },
        "outputId": "67e798fb-7bfc-4d7f-a095-3bf1e2806358"
      },
      "execution_count": 100,
      "outputs": [
        {
          "output_type": "stream",
          "name": "stdout",
          "text": [
            "..::Четырехкратная ошибка::..\n",
            "\n",
            "Исходное сообщение:  [1 1 1 0 1]\n",
            "В ходе передачи возникла ошибка\n",
            "\n",
            "Принято:  [0 0 0 1 1 0 0 1 0 0 1 1 1 1 1 0]\n",
            "\n",
            "Исправленное кодовое слово: [1 1 1 0 1]\n",
            "Исправленное слово совпадает с отправленным.\n"
          ]
        }
      ]
    }
  ]
}